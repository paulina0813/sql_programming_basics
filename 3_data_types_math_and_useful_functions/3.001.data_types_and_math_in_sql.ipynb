{
 "cells": [
  {
   "cell_type": "markdown",
   "metadata": {},
   "source": [
    "# Data Types and Math in SQL\n",
    "\n",
    "- A data type is the kind of data stored in a field: text, numeric, binary, etc\n",
    "- Certain operations are not possible with certain types\n",
    "\n",
    "## SQL Data Types\n",
    "\n",
    "|Binary|Date/Time|Numbers|Text|\n",
    "|---|---|---|---|\n",
    "|BINARY|DATE|BIGINT|CHARACTER|\n",
    "|BINARY LARGE OBJECT|INTERVAL|DECIMAL|CHARACTER LARGE OBJECT|\n",
    "|BINARY VARYING|TIME|DOUBLE PRECISION|VARCHAR|\n",
    "| |TIMESTAMP|FLOAT|NCHAR|\n",
    "| | |INTEGER|NCHAR VARYING|\n",
    "| | |NUMERIC| |\n",
    "|**Other**| |SMALLINT| |\n",
    "|BOOLEAN | |REAL| |\n",
    "\n",
    "- The data type indicates what a fiels is optimized to store and what operations are possible on it.\n",
    "    - **Binary**: optimized to store ones and zeros, representing whatever data that might be in a fixed or variable way\n",
    "    - **Date and time**: indicate that the data in a field should be treated as a time value, and that's reflected in the way they're stored, compared, ans used.\n",
    "    - **Numbers**: represent different types of numeric values, including integers of different lengths, floating points of various lengths and precisions, and so on\n",
    "    - **Text**: represent different lengths of characters treated as text rather than as numbers or binary data\n",
    "- There's types come into play when creating a table\n",
    "- **NULL** value:\n",
    "    - Represents nothing\n",
    "    - Different than no, false, or zero\n",
    "    - Null means that a value is empty\n",
    "\n",
    "\n",
    "## Math in SQL\n",
    "- Most basic; use a SELECT statement: SELECT(4+2)\n",
    "- Supports arithmetic operators +,-,*,/, and modulo(%)\n",
    "- Assumes integer operations unless otherwise specified\n",
    "\n",
    "\n",
    "### Example\n",
    "I'll write a statement that asks for the first name and a quiz score from out people table. And I'll ask for the records which have a quiz score of more than 70"
   ]
  },
  {
   "cell_type": "code",
   "execution_count": null,
   "metadata": {
    "vscode": {
     "languageId": "sql"
    }
   },
   "outputs": [],
   "source": [
    "SELECT first_name, quiz_points\n",
    "FROM people\n",
    "WHERE quiz_points > 70;"
   ]
  },
  {
   "cell_type": "markdown",
   "metadata": {},
   "source": [
    "If we want to include the people whose score is exactly 70, we could change the query to >="
   ]
  },
  {
   "cell_type": "code",
   "execution_count": null,
   "metadata": {
    "vscode": {
     "languageId": "sql"
    }
   },
   "outputs": [],
   "source": [
    "SELECT first_name, quiz_points\n",
    "FROM people\n",
    "WHERE quiz_points >= 70;"
   ]
  },
  {
   "cell_type": "markdown",
   "metadata": {},
   "source": [
    "If we want to find out what the maximum and minimum scores on the quiz were, we could use the MAX and MIN functions"
   ]
  },
  {
   "cell_type": "code",
   "execution_count": null,
   "metadata": {
    "vscode": {
     "languageId": "sql"
    }
   },
   "outputs": [],
   "source": [
    "SELECT MAX(quiz_points), MIN(quiz_points)\n",
    "FROM people;"
   ]
  },
  {
   "cell_type": "markdown",
   "metadata": {},
   "source": [
    "If we wanted to know what the total number of points scored on our quiz was, we could use the SUM function"
   ]
  },
  {
   "cell_type": "code",
   "execution_count": null,
   "metadata": {
    "vscode": {
     "languageId": "sql"
    }
   },
   "outputs": [],
   "source": [
    "SELECT SUM(quiz_points)\n",
    "FROM people;"
   ]
  },
  {
   "cell_type": "markdown",
   "metadata": {},
   "source": [
    "Let's build a report that shows the breakdown of how many people are on each team, the total points earched by each team, and each team's average score."
   ]
  },
  {
   "cell_type": "code",
   "execution_count": null,
   "metadata": {
    "vscode": {
     "languageId": "sql"
    }
   },
   "outputs": [],
   "source": [
    "SELECT team, COUNT(*), SUM(quiz_points), AVG(quiz_points)\n",
    "FROM people\n",
    "GROUP BY team;"
   ]
  },
  {
   "cell_type": "code",
   "execution_count": null,
   "metadata": {
    "vscode": {
     "languageId": "sql"
    }
   },
   "outputs": [],
   "source": [
    "SELECT team, COUNT(*), SUM(quiz_points), (SUM(quiz_points)/COUNT(*)) AS Average\n",
    "FROM people\n",
    "GROUP BY team;"
   ]
  }
 ],
 "metadata": {
  "language_info": {
   "name": "python"
  }
 },
 "nbformat": 4,
 "nbformat_minor": 2
}
