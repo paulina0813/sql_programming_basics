{
 "cells": [
  {
   "cell_type": "markdown",
   "metadata": {},
   "source": [
    "# Transform Data"
   ]
  },
  {
   "cell_type": "code",
   "execution_count": null,
   "metadata": {
    "vscode": {
     "languageId": "sql"
    }
   },
   "outputs": [],
   "source": [
    "SELECT first_name, last_name\n",
    "FROM people;"
   ]
  },
  {
   "cell_type": "markdown",
   "metadata": {},
   "source": [
    "Let's add functions to change the capitalization:\n",
    "- Lower - gives lowercase representation of the field\n",
    "- Upper - gives an uppercase representation of the field"
   ]
  },
  {
   "cell_type": "code",
   "execution_count": null,
   "metadata": {
    "vscode": {
     "languageId": "sql"
    }
   },
   "outputs": [],
   "source": [
    "SELECT LOWER(first_name), UPPER(last_name)\n",
    "FROM people;"
   ]
  },
  {
   "cell_type": "markdown",
   "metadata": {},
   "source": [
    "You can also take out parte of the string with the SUBSTR function. This function takes a few arguments:\n",
    "- The field\n",
    "- A number representing the number at whihc to start counting \n",
    "- And the number after which to stop in characters\n",
    "\n",
    "To get the first 5 characters, we can use \n",
    "\n",
    "SUBSTR(last_name, 1, 5)"
   ]
  },
  {
   "cell_type": "code",
   "execution_count": null,
   "metadata": {
    "vscode": {
     "languageId": "sql"
    }
   },
   "outputs": [],
   "source": [
    "SELECT LOWER(first_name), SUBSTR(last_name, 1, 5)\n",
    "FROM people;"
   ]
  },
  {
   "cell_type": "markdown",
   "metadata": {},
   "source": [
    "If we leave out the second number, it just cuts it at whichever character would represent the start of the range "
   ]
  },
  {
   "cell_type": "code",
   "execution_count": null,
   "metadata": {
    "vscode": {
     "languageId": "sql"
    }
   },
   "outputs": [],
   "source": [
    "SELECT LOWER(first_name), SUBSTR(last_name, 3)\n",
    "FROM people;"
   ]
  },
  {
   "cell_type": "markdown",
   "metadata": {},
   "source": [
    "If we turn the number negative, the count starts from the end of the string, insted of the beginning.\n",
    "\n",
    "-3 will give us the last 3 letters of the string"
   ]
  },
  {
   "cell_type": "code",
   "execution_count": null,
   "metadata": {
    "vscode": {
     "languageId": "sql"
    }
   },
   "outputs": [],
   "source": [
    "SELECT LOWER(first_name), SUBSTR(last_name, -3)\n",
    "FROM people;"
   ]
  },
  {
   "cell_type": "markdown",
   "metadata": {},
   "source": [
    "We can also return text in the screen as we return it from the database with the REPLACE function. It takes a few arguments:\n",
    "- The field we want to work with\n",
    "- The next argument is the string to replace\n",
    "- The third value is the string to replace that precious string with\n",
    "    - It could be an empty string if we just want to omit a particular string from the results \n",
    "\n",
    "- The replacement is case sensitve\n",
    "\n",
    "In this case we'll replace the letter a with an underscore (_)"
   ]
  },
  {
   "cell_type": "code",
   "execution_count": null,
   "metadata": {
    "vscode": {
     "languageId": "sql"
    }
   },
   "outputs": [],
   "source": [
    "SELECT LOWER(first_name), REPLACE(last_name, 'a', '_')\n",
    "FROM people;"
   ]
  },
  {
   "cell_type": "markdown",
   "metadata": {},
   "source": [
    "We can use the CAST keyword to tell the database to interpret one datatype as another.\n",
    "\n",
    "This can change the way we interact with the field"
   ]
  },
  {
   "cell_type": "code",
   "execution_count": null,
   "metadata": {
    "vscode": {
     "languageId": "sql"
    }
   },
   "outputs": [],
   "source": [
    "SELECT quiz_points FROM people ORDER BY quiz_points;"
   ]
  },
  {
   "cell_type": "code",
   "execution_count": null,
   "metadata": {
    "vscode": {
     "languageId": "sql"
    }
   },
   "outputs": [],
   "source": [
    "SELECT quiz_points FROM people ORDER BY CAST(quiz_points AS CHAR);"
   ]
  },
  {
   "cell_type": "markdown",
   "metadata": {},
   "source": [
    "These two statements will give you different results. The first will perform a numeric sort, the second one will perform an alphanumeric sort.\n",
    "\n",
    "We can also see this behavior with other functions, like the MAX function"
   ]
  },
  {
   "cell_type": "code",
   "execution_count": null,
   "metadata": {
    "vscode": {
     "languageId": "sql"
    }
   },
   "outputs": [],
   "source": [
    "SELECT MAX(quiz_points) FROM people;"
   ]
  },
  {
   "cell_type": "code",
   "execution_count": null,
   "metadata": {
    "vscode": {
     "languageId": "sql"
    }
   },
   "outputs": [],
   "source": [
    "SELECT MAX(CAST(quiz_points AS CHAR)) FROM people;"
   ]
  },
  {
   "cell_type": "markdown",
   "metadata": {},
   "source": [
    "The second one will give you a max of 90 even though we know the scores go up to 100. This is because a string that starts with 9 will sort higher than any string that starts with 1\n",
    "\n",
    "If we change it to an integer, then we would get the result that we expect"
   ]
  },
  {
   "cell_type": "code",
   "execution_count": null,
   "metadata": {
    "vscode": {
     "languageId": "sql"
    }
   },
   "outputs": [],
   "source": [
    "SELECT MAX(CAST(quiz_points AS INT)) FROM people;"
   ]
  },
  {
   "cell_type": "markdown",
   "metadata": {},
   "source": [
    "We can change the name of the returned field with the AS keyword"
   ]
  },
  {
   "cell_type": "code",
   "execution_count": null,
   "metadata": {
    "vscode": {
     "languageId": "sql"
    }
   },
   "outputs": [],
   "source": [
    "SELECT first_name, last_name\n",
    "FROM people;"
   ]
  },
  {
   "cell_type": "markdown",
   "metadata": {},
   "source": [
    "The headers here are the same as the field names that I asked for. And if I transform the name a little bit, the column header changes to match."
   ]
  },
  {
   "cell_type": "code",
   "execution_count": null,
   "metadata": {
    "vscode": {
     "languageId": "sql"
    }
   },
   "outputs": [],
   "source": [
    "SELECT first_name, UPPER(last_name)\n",
    "FROM people;"
   ]
  },
  {
   "cell_type": "markdown",
   "metadata": {},
   "source": [
    "That can be useful if we want to know specifically what we asked for but if we're working with the output we might want a more friendly name\n",
    "\n",
    "In this case, we can use AS to change the name of the field. This is called an Alias and it changes the header of the column in the output."
   ]
  },
  {
   "cell_type": "code",
   "execution_count": null,
   "metadata": {
    "vscode": {
     "languageId": "sql"
    }
   },
   "outputs": [],
   "source": [
    "SELECT first_name, UPPER(last_name) AS surname\n",
    "FROM people;"
   ]
  },
  {
   "cell_type": "markdown",
   "metadata": {},
   "source": [
    "This alias can't have spaces in it, and if you want to use spaces, you need to wrap up the name in apostrophes"
   ]
  },
  {
   "cell_type": "code",
   "execution_count": null,
   "metadata": {
    "vscode": {
     "languageId": "sql"
    }
   },
   "outputs": [],
   "source": [
    "SELECT first_name, UPPER(last_name) AS 'Last Name'\n",
    "FROM people;"
   ]
  }
 ],
 "metadata": {
  "kernelspec": {
   "display_name": "Python 3",
   "language": "python",
   "name": "python3"
  },
  "language_info": {
   "codemirror_mode": {
    "name": "ipython",
    "version": 3
   },
   "file_extension": ".py",
   "mimetype": "text/x-python",
   "name": "python",
   "nbconvert_exporter": "python",
   "pygments_lexer": "ipython3",
   "version": "3.12.1"
  }
 },
 "nbformat": 4,
 "nbformat_minor": 2
}
