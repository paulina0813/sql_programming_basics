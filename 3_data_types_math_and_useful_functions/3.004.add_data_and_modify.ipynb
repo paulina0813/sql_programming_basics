{
 "cells": [
  {
   "cell_type": "markdown",
   "metadata": {},
   "source": [
    "# Add Data and Modify\n",
    "\n",
    "## INSERT STATEMENT\n",
    "- add data to a table\n",
    "- We need to tell it what table to add data to, what field or fields to add information in, and then the values to put in those fields"
   ]
  },
  {
   "cell_type": "code",
   "execution_count": null,
   "metadata": {
    "vscode": {
     "languageId": "sql"
    }
   },
   "outputs": [],
   "source": [
    "INSERT INTO tablename (field1, field2)\n",
    "VALUES (value1, value2);"
   ]
  },
  {
   "cell_type": "markdown",
   "metadata": {},
   "source": [
    "Let's add a record to out people table and insert the name \"Bob\""
   ]
  },
  {
   "cell_type": "code",
   "execution_count": null,
   "metadata": {
    "vscode": {
     "languageId": "sql"
    }
   },
   "outputs": [],
   "source": [
    "INSERT into people (first_name) VALUES ('Bob');"
   ]
  },
  {
   "cell_type": "markdown",
   "metadata": {},
   "source": [
    "We take a look at the table"
   ]
  },
  {
   "cell_type": "code",
   "execution_count": null,
   "metadata": {
    "vscode": {
     "languageId": "sql"
    }
   },
   "outputs": [],
   "source": [
    "SELECT *\n",
    "FROM people;"
   ]
  },
  {
   "cell_type": "markdown",
   "metadata": {},
   "source": [
    "We see that now there's record 1001, Bob. The first_name field has what we added, and all of the other fields have NULL in them because we didn't set any information or are empty or have no values stored in them\n",
    "\n",
    "Let's add another INSERT statement to add more information, this time using a couple different fields"
   ]
  },
  {
   "cell_type": "code",
   "execution_count": null,
   "metadata": {
    "vscode": {
     "languageId": "sql"
    }
   },
   "outputs": [],
   "source": [
    "INSERT INTO people (first_name, last_name, state, city, shirt_or_hat) \n",
    "VALUES ('Mary', 'Hamilton', 'OR', 'Portland', 'hat');"
   ]
  },
  {
   "cell_type": "markdown",
   "metadata": {},
   "source": [
    "I'll run that and take a look at the table again"
   ]
  },
  {
   "cell_type": "code",
   "execution_count": null,
   "metadata": {
    "vscode": {
     "languageId": "sql"
    }
   },
   "outputs": [],
   "source": [
    "SELECT *\n",
    "FROM people;"
   ]
  },
  {
   "cell_type": "markdown",
   "metadata": {},
   "source": [
    "Now we see that below Bob, we have Mary Hamilton from Portland, OR, who is a fan aof hats.\n",
    "\n",
    "We can also add more than one record at a time, either by running multiple INSERT statements at once or by giving the field names and then a series of information in parentheses"
   ]
  },
  {
   "cell_type": "code",
   "execution_count": null,
   "metadata": {
    "vscode": {
     "languageId": "sql"
    }
   },
   "outputs": [],
   "source": [
    "INSERT INTO people (first_name, last_name)\n",
    "VALUES ('George', 'White'), ('Jenn', 'Smith'), ('Carol', 'Anderson');"
   ]
  },
  {
   "cell_type": "markdown",
   "metadata": {},
   "source": [
    "Let's take a look at the table again.\n",
    "\n",
    "And there are 3 new records below Mary Hamilton. Notice how we can selectively add information to our fields, we don't necessarily need to have all the information for our records, but that's not necessarily a good idea because there might be fields that are really important, so we want to maintin the integrity of the data when we're adding records\n",
    "\n",
    "## UPDATE STATEMENT\n",
    "- Change records in a table\n",
    "- Data in the database can be modified using the UPDATE keyword\n",
    "- To update the information, we need to tell the database which table we are using, what fields to update with what values and optionaly use a WHERE clause to specify how to find records to update\n",
    "    - If you leave off a WHERE clause, the change will apply to the whole table"
   ]
  },
  {
   "cell_type": "code",
   "execution_count": null,
   "metadata": {
    "vscode": {
     "languageId": "sql"
    }
   },
   "outputs": [],
   "source": [
    "UPDATE tablename SET field1=value1, field2=value2 WHERE condition;"
   ]
  },
  {
   "cell_type": "markdown",
   "metadata": {},
   "source": [
    "Let's change the name of a recent entry from 'George' to 'Martha\". Let's modify the record we just added"
   ]
  },
  {
   "cell_type": "code",
   "execution_count": null,
   "metadata": {
    "vscode": {
     "languageId": "sql"
    }
   },
   "outputs": [],
   "source": [
    "UPDATE people\n",
    "SET first_name='Martha'\n",
    "WHERE first_name = 'George' AND last_name = 'White';"
   ]
  },
  {
   "cell_type": "markdown",
   "metadata": {},
   "source": [
    "Now we can see that the name changed and instead of having George White we have Martha White.\n",
    "\n",
    "We can also update more than one record at a time using the WHERE clause differently\n",
    "\n",
    "Let's say that one of the companies got bought out and Fisher LLC is now Megacorp Incorporated.\n",
    "\n",
    "Let's find records where the company is Fisher LLC"
   ]
  },
  {
   "cell_type": "code",
   "execution_count": null,
   "metadata": {
    "vscode": {
     "languageId": "sql"
    }
   },
   "outputs": [],
   "source": [
    "SELECT *\n",
    "FROM people\n",
    "WHERE company = 'Fisher LLC';"
   ]
  },
  {
   "cell_type": "markdown",
   "metadata": {},
   "source": [
    "And now, let's update that to Megacorp Incorporated"
   ]
  },
  {
   "cell_type": "code",
   "execution_count": null,
   "metadata": {
    "vscode": {
     "languageId": "sql"
    }
   },
   "outputs": [],
   "source": [
    "UPDATE people \n",
    "SET company='Megacorp Incorporated'\n",
    "WHERE company = 'Fisher LLC';"
   ]
  },
  {
   "cell_type": "markdown",
   "metadata": {},
   "source": [
    "And now, if we look for the people that work for Fisher LLC, there's no results"
   ]
  },
  {
   "cell_type": "code",
   "execution_count": null,
   "metadata": {
    "vscode": {
     "languageId": "sql"
    }
   },
   "outputs": [],
   "source": [
    "SELECT *\n",
    "FROM people\n",
    "WHERE company = 'Fisher LLC';"
   ]
  },
  {
   "cell_type": "markdown",
   "metadata": {},
   "source": [
    "But if we look for the people that work for Megacorp Incorporated, then there they are"
   ]
  },
  {
   "cell_type": "code",
   "execution_count": null,
   "metadata": {
    "vscode": {
     "languageId": "sql"
    }
   },
   "outputs": [],
   "source": [
    "SELECT *\n",
    "FROM people\n",
    "WHERE company = 'Megacorp Incorporated';"
   ]
  },
  {
   "cell_type": "markdown",
   "metadata": {},
   "source": [
    "## DELETE STATEMENT\n",
    "- Remove records from a table\n",
    "- We need to tell the database from where it should delete something, and it's a good idea to add a condition to set the scope of deletion"
   ]
  },
  {
   "cell_type": "code",
   "execution_count": null,
   "metadata": {
    "vscode": {
     "languageId": "sql"
    }
   },
   "outputs": [],
   "source": [
    "DELETE FROM tablename WHERE condition;"
   ]
  },
  {
   "cell_type": "markdown",
   "metadata": {},
   "source": [
    "If there is no condition, it will delete everything in the table.\n",
    "\n",
    "Let's get rid of some records. Let's delete Martha White"
   ]
  },
  {
   "cell_type": "code",
   "execution_count": null,
   "metadata": {
    "vscode": {
     "languageId": "sql"
    }
   },
   "outputs": [],
   "source": [
    "DELETE FROM people \n",
    "WHERE first_name = 'Martha' AND last_name = 'White';"
   ]
  },
  {
   "cell_type": "markdown",
   "metadata": {},
   "source": [
    "We check the people table again and we see that Martha White is gone"
   ]
  },
  {
   "cell_type": "code",
   "execution_count": null,
   "metadata": {
    "vscode": {
     "languageId": "sql"
    }
   },
   "outputs": [],
   "source": [
    "SELECT *\n",
    "FROM people;"
   ]
  },
  {
   "cell_type": "markdown",
   "metadata": {},
   "source": [
    "We can delete more than one record at a time too with a condition that matches more than one record.\n",
    "\n",
    "All of these new records have a NULL id_number, so let's use that\n",
    "\n",
    "I'll change my delete statement to delete from people where id_number is NULL"
   ]
  },
  {
   "cell_type": "code",
   "execution_count": null,
   "metadata": {
    "vscode": {
     "languageId": "sql"
    }
   },
   "outputs": [],
   "source": [
    "DELETE FROM people WHERE id_number = NULL;"
   ]
  },
  {
   "cell_type": "markdown",
   "metadata": {},
   "source": [
    "Now let's take a look at the table again"
   ]
  },
  {
   "cell_type": "code",
   "execution_count": null,
   "metadata": {
    "vscode": {
     "languageId": "sql"
    }
   },
   "outputs": [],
   "source": [
    "SELECT *\n",
    "FROM people;"
   ]
  },
  {
   "cell_type": "markdown",
   "metadata": {},
   "source": [
    "We can see that the records that we added have been removed from the table"
   ]
  }
 ],
 "metadata": {
  "kernelspec": {
   "display_name": "Python 3",
   "language": "python",
   "name": "python3"
  },
  "language_info": {
   "codemirror_mode": {
    "name": "ipython",
    "version": 3
   },
   "file_extension": ".py",
   "mimetype": "text/x-python",
   "name": "python",
   "nbconvert_exporter": "python",
   "pygments_lexer": "ipython3",
   "version": "3.12.1"
  }
 },
 "nbformat": 4,
 "nbformat_minor": 2
}
