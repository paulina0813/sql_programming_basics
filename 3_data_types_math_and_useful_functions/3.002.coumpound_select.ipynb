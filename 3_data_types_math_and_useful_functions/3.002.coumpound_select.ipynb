{
 "cells": [
  {
   "cell_type": "markdown",
   "metadata": {},
   "source": [
    "# Compound SELECT\n",
    "\n",
    "- Sometimes we need to use more than one SELECT statement to get the information we want, we can't always set up a WHERE clause in a statement otherwise\n",
    "- Using a secondary SELECT statement is called a subquery or subselect, and it helps us to narrow down or zero in  on a specific set of data to use in a larger query\n",
    "\n",
    "\n",
    "### Example 1\n",
    "Let's get a listing of all the people in our database who achieve the highest score on our quiz"
   ]
  },
  {
   "cell_type": "code",
   "execution_count": null,
   "metadata": {
    "vscode": {
     "languageId": "sql"
    }
   },
   "outputs": [],
   "source": [
    "SELECT first_name, last_name, quiz_points\n",
    "FROM people\n",
    "WHERE quiz_points = MAX(quiz_points);"
   ]
  },
  {
   "cell_type": "markdown",
   "metadata": {},
   "source": [
    "When I run that, I have an error, a misuse of aggregate funciton MAX().\n",
    "\n",
    "This is because the MAX function, like other aggregate functions need to be part of a SELECT clause in order to work"
   ]
  },
  {
   "cell_type": "code",
   "execution_count": null,
   "metadata": {
    "vscode": {
     "languageId": "sql"
    }
   },
   "outputs": [],
   "source": [
    "SELECT first_name, last_name, quiz_points\n",
    "FROM people\n",
    "WHERE quiz_points = (SELECT MAX(quiz_points) FROM people);"
   ]
  },
  {
   "cell_type": "markdown",
   "metadata": {},
   "source": [
    "We can also use a subquery to use information from one table to inform a search on another table\n",
    "\n",
    "### Example 2\n",
    "Let's say we want to find all of the participants from Minnesota but you can never remember what the state abbreviation for Minnesota is.\n",
    "\n",
    "Instead of specifying the state abbreviation, let's look up the name Minnesota in the states table, get its abbreviation, and then use that to look up people"
   ]
  },
  {
   "cell_type": "code",
   "execution_count": null,
   "metadata": {
    "vscode": {
     "languageId": "sql"
    }
   },
   "outputs": [],
   "source": [
    "SELECT * \n",
    "FROM people\n",
    "WHERE state = (SELECT state_abbrev FROM states WHERE state_name = 'Minnesota');"
   ]
  }
 ],
 "metadata": {
  "language_info": {
   "name": "python"
  }
 },
 "nbformat": 4,
 "nbformat_minor": 2
}
