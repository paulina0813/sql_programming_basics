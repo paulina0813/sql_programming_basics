{
 "cells": [
  {
   "cell_type": "markdown",
   "metadata": {},
   "source": [
    "# Add More Criteria to a Statement and Get More Specific\n",
    "\n",
    "You can use the operators such as (AND, IS, IS NOT, etc) to filter by several conditions"
   ]
  },
  {
   "cell_type": "code",
   "execution_count": null,
   "metadata": {
    "vscode": {
     "languageId": "sql"
    }
   },
   "outputs": [],
   "source": [
    "SELECT first_name, last_name, team\n",
    "FROM people \n",
    "WHERE shirt_or_hat = 'shirt' AND state = 'CA' AND team IS NOT 'blue';"
   ]
  },
  {
   "cell_type": "markdown",
   "metadata": {},
   "source": [
    "!= is equal to IS Not\n",
    "\n",
    "Rather than looking for conditions that are all true, we can filter results where one of two conditions is true.\n",
    "\n",
    "For example, if we want to see everyone who wanted a shirt but was in California or Colorado. Then, we would use OR"
   ]
  },
  {
   "cell_type": "code",
   "execution_count": null,
   "metadata": {
    "vscode": {
     "languageId": "sql"
    }
   },
   "outputs": [],
   "source": [
    "SELECT first_name, last_name, shirt_or_hat, state\n",
    "FROM people \n",
    "WHERE state = 'CA' OR state = 'CO' AND shirt_or_hat = 'shirt'  ;"
   ]
  },
  {
   "cell_type": "markdown",
   "metadata": {},
   "source": [
    "If we run this, we can see that we are getting unexpected results, we are getting some records where they chose a hat. This is because the way we set up the conditions is pairing the last two together, so it's showing the records where the state is California OR the state is Colorado AND they chose a shirt.\n",
    "\n",
    "What we want to see is the records where they chose a shirt and the state is either California or Colorado, so we need to add some parenthesis."
   ]
  },
  {
   "cell_type": "code",
   "execution_count": null,
   "metadata": {
    "vscode": {
     "languageId": "sql"
    }
   },
   "outputs": [],
   "source": [
    "SELECT first_name, last_name, shirt_or_hat, state\n",
    "FROM people \n",
    "WHERE (state = 'CA' OR state = 'CO') AND shirt_or_hat = 'shirt'  ;"
   ]
  },
  {
   "cell_type": "markdown",
   "metadata": {},
   "source": [
    "Parenthesis are very useful to improving teh quality of the query\n",
    "\n",
    "There are some other operators that let us interact with text, such as the LIKE operator.\n",
    "\n",
    "Let's say we cant to extract all of the results where the state starts with C, it could be CA, CO, CT, etc. In this case we could use the LIKE 'C%' indicating that we want the C and whatever comes after that, we're just matching the first character"
   ]
  },
  {
   "cell_type": "code",
   "execution_count": null,
   "metadata": {
    "vscode": {
     "languageId": "sql"
    }
   },
   "outputs": [],
   "source": [
    "SELECT first_name, last_name, state\n",
    "FROM people \n",
    "WHERE state LIKE 'C%';"
   ]
  },
  {
   "cell_type": "markdown",
   "metadata": {},
   "source": [
    "Or we could put the % at the end to show we want any state endin with a letter, for example N"
   ]
  },
  {
   "cell_type": "code",
   "execution_count": null,
   "metadata": {
    "vscode": {
     "languageId": "sql"
    }
   },
   "outputs": [],
   "source": [
    "SELECT first_name, last_name, state\n",
    "FROM people \n",
    "WHERE state LIKE '%N';"
   ]
  },
  {
   "cell_type": "markdown",
   "metadata": {},
   "source": [
    "You can also use more than one % sign if you want to match the text somewhwere in the middle of the field.\n",
    "\n",
    "Let's say we want to get all the first names that have a J somewhere in the name"
   ]
  },
  {
   "cell_type": "code",
   "execution_count": null,
   "metadata": {
    "vscode": {
     "languageId": "sql"
    }
   },
   "outputs": [],
   "source": [
    "SELECT first_name, last_name, state\n",
    "FROM people \n",
    "WHERE first_name LIKE '%J%';"
   ]
  },
  {
   "cell_type": "code",
   "execution_count": null,
   "metadata": {
    "vscode": {
     "languageId": "sql"
    }
   },
   "outputs": [],
   "source": [
    "SELECT first_name, last_name, state\n",
    "FROM people \n",
    "WHERE first_name LIKE '%on%';"
   ]
  },
  {
   "cell_type": "markdown",
   "metadata": {},
   "source": [
    "We can also tell limit the amount of results that get returned.\n",
    "\n",
    "LIMIT tells the database to stop returning results after a number of them have met our search criteria\n",
    "\n",
    "So if I only wanted to see the first 5 results in this last query, i could use LIMIT"
   ]
  },
  {
   "cell_type": "code",
   "execution_count": null,
   "metadata": {
    "vscode": {
     "languageId": "sql"
    }
   },
   "outputs": [],
   "source": [
    "SELECT first_name, last_name, state\n",
    "FROM people \n",
    "WHERE first_name LIKE '%on%'\n",
    "LIMIT 5;"
   ]
  },
  {
   "cell_type": "code",
   "execution_count": null,
   "metadata": {
    "vscode": {
     "languageId": "sql"
    }
   },
   "outputs": [],
   "source": [
    "SELECT first_name, last_name, state\n",
    "FROM people \n",
    "WHERE first_name LIKE '%on%'\n",
    "LIMIT 5 OFFSET 5;"
   ]
  },
  {
   "cell_type": "markdown",
   "metadata": {},
   "source": [
    "If I wanted to see a specific set of them, like the second set of five responses, I could use the OFFSET commando to tell the database to skip some records before counting off mu five"
   ]
  }
 ],
 "metadata": {
  "language_info": {
   "name": "python"
  }
 },
 "nbformat": 4,
 "nbformat_minor": 2
}
