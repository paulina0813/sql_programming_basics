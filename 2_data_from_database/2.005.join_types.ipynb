{
 "cells": [
  {
   "cell_type": "markdown",
   "metadata": {},
   "source": [
    "# JOIN Types\n",
    "- JOIN - ask for records that are associated with each other based on a common piece of information\n",
    "\n",
    "Let's get a list of the first names from the people table, and teh abbreviation of the state they're from"
   ]
  },
  {
   "cell_type": "code",
   "execution_count": null,
   "metadata": {
    "vscode": {
     "languageId": "sql"
    }
   },
   "outputs": [],
   "source": [
    "SELECT first_name, state\n",
    "FROM people;"
   ]
  },
  {
   "cell_type": "markdown",
   "metadata": {},
   "source": [
    "And we'll connect that to the states table, and associate the census division to each record as well.\n",
    "\n",
    "To do that, we'll use the JOIN keyword"
   ]
  },
  {
   "cell_type": "code",
   "execution_count": null,
   "metadata": {
    "vscode": {
     "languageId": "sql"
    }
   },
   "outputs": [],
   "source": [
    "SELECT first_name, state\n",
    "FROM people\n",
    "JOIN states  -- Tells the DB that we're going to be associating the states table in this statement and that we'll be selecting from people joined to states\n",
    "ON people.state = states.state_abbrev; "
   ]
  },
  {
   "cell_type": "markdown",
   "metadata": {},
   "source": [
    "The ON keyword tells the DB that whenever you return a record from the people table for the associated record in the states table, use the state value in the people table and match it to the state abbreviation value in the states table.\n",
    "\n",
    "people.state and states.state_abbrev need to be identical, otherwise the database won't be able to match them up\n",
    "\n",
    "Now let's add one of the values from the states table to the results so we can see that it's working"
   ]
  },
  {
   "cell_type": "code",
   "execution_count": null,
   "metadata": {
    "vscode": {
     "languageId": "sql"
    }
   },
   "outputs": [],
   "source": [
    "SELECT people.first_name, people.state, states.division\n",
    "FROM people\n",
    "JOIN states \n",
    "ON people.state = states.state_abbrev; "
   ]
  },
  {
   "cell_type": "markdown",
   "metadata": {},
   "source": [
    "Or if we want to see all of the records with all of the values from both tables"
   ]
  },
  {
   "cell_type": "code",
   "execution_count": null,
   "metadata": {
    "vscode": {
     "languageId": "sql"
    }
   },
   "outputs": [],
   "source": [
    "SELECT *\n",
    "FROM people\n",
    "JOIN states \n",
    "ON people.state = states.state_abbrev; "
   ]
  },
  {
   "cell_type": "markdown",
   "metadata": {},
   "source": [
    "You can add conditions based on both tables as well"
   ]
  },
  {
   "cell_type": "code",
   "execution_count": null,
   "metadata": {
    "vscode": {
     "languageId": "sql"
    }
   },
   "outputs": [],
   "source": [
    "SELECT *\n",
    "FROM people\n",
    "JOIN states \n",
    "ON people.state = states.state_abbrev\n",
    "WHERE people.first_name LIKE 'J%' AND states.region = 'South'; "
   ]
  },
  {
   "cell_type": "markdown",
   "metadata": {},
   "source": [
    "## JOIN Types\n",
    "\n",
    "### Cross-JOIN\n",
    "- If we just use the JOIN statement without any kind of qualifying parameters, we get back a resulting table that is the size of the left table times the right table\n",
    "    - We get one of every row in the left table for one of every row in the right table\n",
    "\n",
    "![JOIN](<JOIN.png>)\n",
    "\n",
    "### (INNER) JOIN\n",
    "- When we join tables based on some given criteria, it;s overlap within the tables where the criteria match\n",
    "\n",
    "![INNER JOIN](<INNER JOIN.png>)\n",
    "\n",
    "The state abbreviation CA, for example, on one table would be equated to CA in the other table, thereby joining those records together and associating data from the right table to data from the left table.\n",
    "\n",
    "It's not necessarily a one-to-one relationship.\n",
    "\n",
    "We could have one key on the right side match that same key in more than one row on the left, but we also might have a condition where records on the right or the left don't have a corresponding key on the other side\n",
    "    - That's why we have other types of joins, to account for situations like that\n",
    "\n",
    "Inner and Outer refer to the space where both tables match up and overlap.\n",
    "\n",
    "![INNER JOIN EX](<INNER JOIN EX.png>)\n",
    "\n",
    "Here, CA and VA would be considered INNER because they're in the overlap space, and DE and MA would be considered OUTER\n",
    "\n",
    "The INNER JOIN asks for records that overlap\n",
    "\n",
    "## LEFT (OUTER) JOIN\n",
    "- If we wanted to see all of the data from one table or another, and the matches where there's a match happening, we can use this outer concept to make that happen\n",
    "- To get back a result for every record in the left table, I'd use LEFT JOIN, which is the same as LEFT OUTER JOIN\n",
    "- In the result, there,s a roe for every row of the left table, the people table, and wherever there's a match from the right table, I have that information too. But if there's no mathc in the state abbreviation, for example, here with Devin from Massachusetts, I get back null values because there's no information about that key in the right table.\n",
    "- The result will be the same length as the left table with the LEFT JOIN\n",
    "\n",
    "![LEFT OUTER JOIN](<LEFT OUTER JOIN.png>)\n",
    "\n",
    "## RIGHT (OUTER) JOIN\n",
    "- If we wanted to make sure that we see all the values on the right table instead, I could use RIGHT JOIN\n",
    "- In this case, I see all the record values from the right table, some of which match, and if there isn't a match, I just see the values from the right table with null in the fields for the left table where there's no data\n",
    "- Delaware is in the right table but it doesn't have a coordinating row from the left table, so it shows up as null\n",
    "- Devon from Massachusetts doesn't appear because Massachusetts isn't in the rightmost table, and there's no match on MA\n",
    "\n",
    "![RIGHT OUTER JOIN](<RIGHT OUTER JOIN.png>)\n",
    "\n",
    "## FULL OUTER JOIN\n",
    "- We can ask for a row representing each record in both tables with a FULL OUTER JOIN \n",
    "- This gives us the matched and also unmatched records from the left and right tables\n",
    "\n",
    "![FULL OUTER JOIN](<FULL OUTER JOIN.png>)"
   ]
  },
  {
   "cell_type": "code",
   "execution_count": null,
   "metadata": {
    "vscode": {
     "languageId": "sql"
    }
   },
   "outputs": [],
   "source": [
    "SELECT people.first_name, people.last_name, people.state, states.state_name\n",
    "FROM people\n",
    "JOIN states ON people.state = states.state_abbrev;"
   ]
  },
  {
   "cell_type": "markdown",
   "metadata": {},
   "source": [
    "We can switch up the order in which we join the tables and see if we get different results"
   ]
  },
  {
   "cell_type": "code",
   "execution_count": null,
   "metadata": {
    "vscode": {
     "languageId": "sql"
    }
   },
   "outputs": [],
   "source": [
    "SELECT people.first_name, people.last_name, people.state, states.state_name\n",
    "FROM states\n",
    "JOIN people ON people.state = states.state_abbrev;"
   ]
  },
  {
   "cell_type": "markdown",
   "metadata": {},
   "source": [
    "Let's switch it to a LEFT JOIN to get all the records from the states table instead of just the ones that match"
   ]
  },
  {
   "cell_type": "code",
   "execution_count": null,
   "metadata": {
    "vscode": {
     "languageId": "sql"
    }
   },
   "outputs": [],
   "source": [
    "SELECT people.first_name, people.last_name, people.state, states.state_name\n",
    "FROM states\n",
    "LEFT JOIN people ON people.state = states.state_abbrev;"
   ]
  },
  {
   "cell_type": "markdown",
   "metadata": {},
   "source": [
    "Now there's 1003 rows instead of the 1000 from before. We can see that there's at least one record in the states table that doesn't have corresponding information in the people table.\n",
    "\n",
    "Let's write a query to match up the state abbreviations in the people table with those in the states table so we can see what's missing\n",
    "\n",
    "Let's change the SELECT clause to show me distinct values from the state field on the people table and the state abbreviation from the states table, and order them by people.state"
   ]
  },
  {
   "cell_type": "code",
   "execution_count": null,
   "metadata": {
    "vscode": {
     "languageId": "sql"
    }
   },
   "outputs": [],
   "source": [
    "SELECT DISTINCT(people.state), states.state_abbrev\n",
    "FROM states\n",
    "LEFT JOIN people ON people.state = states.state_abbrev\n",
    "ORDER BY people.state;"
   ]
  },
  {
   "cell_type": "markdown",
   "metadata": {},
   "source": [
    "Here we can see that we have 3 values: ME, RI, WY that don't match any values in the people table"
   ]
  }
 ],
 "metadata": {
  "language_info": {
   "name": "python"
  }
 },
 "nbformat": 4,
 "nbformat_minor": 2
}
