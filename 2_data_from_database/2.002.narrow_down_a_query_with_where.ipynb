{
 "cells": [
  {
   "cell_type": "markdown",
   "metadata": {},
   "source": [
    "# Narrow down a query with WHERE\n",
    "- WHERE - adds conditions to a statement"
   ]
  },
  {
   "cell_type": "code",
   "execution_count": null,
   "metadata": {
    "vscode": {
     "languageId": "sql"
    }
   },
   "outputs": [],
   "source": [
    "SELECT * FROM people WHERE state = 'CA';"
   ]
  },
  {
   "cell_type": "markdown",
   "metadata": {},
   "source": [
    "This result shows me all the records from people, but only from California.\n",
    "\n",
    "Now let's change the predicate to see who ares for a shirt instead of a hat when they signed up"
   ]
  },
  {
   "cell_type": "code",
   "execution_count": null,
   "metadata": {
    "vscode": {
     "languageId": "sql"
    }
   },
   "outputs": [],
   "source": [
    "SELECT * FROM people WHERE shirt_or_hat = 'shirt';"
   ]
  },
  {
   "cell_type": "markdown",
   "metadata": {},
   "source": [
    "If we only want to see the names of the people who asked for a shirt instead of a hat, we can select those rows specifically"
   ]
  },
  {
   "cell_type": "code",
   "execution_count": null,
   "metadata": {
    "vscode": {
     "languageId": "sql"
    }
   },
   "outputs": [],
   "source": [
    "SELECT first_name, last_name, shirt_or_hat -- Telling the database what to give me\n",
    "FROM people -- Telling the database where to find it\n",
    "WHERE shirt_or_hat = 'shirt'; -- Telling the database the condition for filtering the responses"
   ]
  }
 ],
 "metadata": {
  "language_info": {
   "name": "python"
  }
 },
 "nbformat": 4,
 "nbformat_minor": 2
}
