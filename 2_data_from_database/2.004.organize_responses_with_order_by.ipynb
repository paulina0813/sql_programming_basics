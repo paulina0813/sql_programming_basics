{
 "cells": [
  {
   "cell_type": "markdown",
   "metadata": {},
   "source": [
    "# Organize Responses with ORDER BY\n",
    "- Sets the prder of the returned records based on given criteria"
   ]
  },
  {
   "cell_type": "code",
   "execution_count": null,
   "metadata": {
    "vscode": {
     "languageId": "sql"
    }
   },
   "outputs": [],
   "source": [
    "SELECT first_name, last_name\n",
    "FROM people;"
   ]
  },
  {
   "cell_type": "markdown",
   "metadata": {},
   "source": [
    "This is the order in which the records are in the database but that's not useful"
   ]
  },
  {
   "cell_type": "code",
   "execution_count": null,
   "metadata": {
    "vscode": {
     "languageId": "sql"
    }
   },
   "outputs": [],
   "source": [
    "SELECT first_name, last_name\n",
    "FROM people\n",
    "ORDER BY first_name;"
   ]
  },
  {
   "cell_type": "markdown",
   "metadata": {},
   "source": [
    "This orders the records by the first name initial. By default they're ordered in ascending order, which means the values start small and they get larger. You can also specify the order by adding ASC to the ORDER BY clause"
   ]
  },
  {
   "cell_type": "code",
   "execution_count": null,
   "metadata": {
    "vscode": {
     "languageId": "sql"
    }
   },
   "outputs": [],
   "source": [
    "SELECT first_name, last_name\n",
    "FROM people\n",
    "ORDER BY first_name ASC;"
   ]
  },
  {
   "cell_type": "markdown",
   "metadata": {},
   "source": [
    "Or you can switch up the order by adding DESC and ordering them in descending order instead, with larger values first"
   ]
  },
  {
   "cell_type": "code",
   "execution_count": null,
   "metadata": {
    "vscode": {
     "languageId": "sql"
    }
   },
   "outputs": [],
   "source": [
    "SELECT first_name, last_name\n",
    "FROM people\n",
    "ORDER BY first_name DESC;"
   ]
  },
  {
   "cell_type": "markdown",
   "metadata": {},
   "source": [
    "You can also order by more than one field as well if we want to add a secondary or tertiary sort order.\n",
    "\n",
    "For example, we could sort first by state, and then within the state, sort by last_name "
   ]
  },
  {
   "cell_type": "code",
   "execution_count": null,
   "metadata": {
    "vscode": {
     "languageId": "sql"
    }
   },
   "outputs": [],
   "source": [
    "SELECT state, last_name, first_name\n",
    "FROM people\n",
    "ORDER BY state ASC, last_name DESC;"
   ]
  },
  {
   "cell_type": "markdown",
   "metadata": {},
   "source": [
    "Let's get the first name of everyone in our database, and let's find out how long the information in a given field is rather than the value itself, using LENGTH"
   ]
  },
  {
   "cell_type": "code",
   "execution_count": null,
   "metadata": {
    "vscode": {
     "languageId": "sql"
    }
   },
   "outputs": [],
   "source": [
    "SELECT first_name, LENGTH(first_name)\n",
    "FROM people"
   ]
  },
  {
   "cell_type": "markdown",
   "metadata": {},
   "source": [
    "Let's look out at only pulling out the unique values, or values that are distinct from one another with a function called DISTINCT"
   ]
  },
  {
   "cell_type": "code",
   "execution_count": null,
   "metadata": {
    "vscode": {
     "languageId": "sql"
    }
   },
   "outputs": [],
   "source": [
    "SELECT DISTINCT(first_name)\n",
    "FROM people;"
   ]
  },
  {
   "cell_type": "markdown",
   "metadata": {},
   "source": [
    "This has filtered the information that I get back from the database, and I have only one resuly for each unique name in the database.\n",
    "\n",
    "If it finds a second instance of a name it has already seen, it just ignores it. So I get one result if there's one nada and one result if there's 100 records with the same name"
   ]
  },
  {
   "cell_type": "code",
   "execution_count": null,
   "metadata": {
    "vscode": {
     "languageId": "sql"
    }
   },
   "outputs": [],
   "source": [
    "SELECT DISTINCT(first_name)\n",
    "FROM people\n",
    "ORDER BY first_name;"
   ]
  },
  {
   "cell_type": "markdown",
   "metadata": {},
   "source": [
    "If I want to make sure that in the field shirt_or_hat I only have shirt or hat, I can also use the DISTINCT function to see the different values that I have in that field"
   ]
  },
  {
   "cell_type": "code",
   "execution_count": null,
   "metadata": {
    "vscode": {
     "languageId": "sql"
    }
   },
   "outputs": [],
   "source": [
    "SELECT DISTINCT(shirt_or_hat)\n",
    "FROM people;"
   ]
  },
  {
   "cell_type": "markdown",
   "metadata": {},
   "source": [
    "We can also use the COUNT function to see how many records match a given criteria\n",
    "\n",
    "For example, I could count how many people in my database are from California"
   ]
  },
  {
   "cell_type": "code",
   "execution_count": null,
   "metadata": {
    "vscode": {
     "languageId": "sql"
    }
   },
   "outputs": [],
   "source": [
    "SELECT COUNT(*)\n",
    "FROM people\n",
    "WHERE state = 'CA'"
   ]
  },
  {
   "cell_type": "markdown",
   "metadata": {},
   "source": [
    "I can see that the count is 127, meaning that 127 records in my database are from California.\n",
    "\n",
    "We can use * in the COUNT function because the COUNT function gives us the number of rows that match that condition, so I don't need to ask for a particular field"
   ]
  }
 ],
 "metadata": {
  "language_info": {
   "name": "python"
  }
 },
 "nbformat": 4,
 "nbformat_minor": 2
}
