{
 "cells": [
  {
   "cell_type": "markdown",
   "metadata": {},
   "source": [
    "# Comine Results\n",
    "- When we need to divide results in various ways, we can use the GROUP BY keyword to change the way that a query works\n",
    "- GROUP BY - organize results by a given field\n",
    "\n",
    "Let's say that we wanted to count up how many of each first name we have in our database"
   ]
  },
  {
   "cell_type": "code",
   "execution_count": null,
   "metadata": {
    "vscode": {
     "languageId": "sql"
    }
   },
   "outputs": [],
   "source": [
    "SELECT first_name, COUNT(first_name)\n",
    "FROM people;"
   ]
  },
  {
   "cell_type": "markdown",
   "metadata": {},
   "source": [
    "This doesn't work because when we ask the database to give us a count of the items in the first_name field, we get 1 result, 1000, and that informs the size of the response.\n",
    "\n",
    "This way we just get the first name value from the last record in the table\n",
    "\n",
    "But if we add a clause to the end using the GROUP BY keyword, we can tell the database to run out SELECT clause against each individual grouping by the field that we specify"
   ]
  },
  {
   "cell_type": "code",
   "execution_count": null,
   "metadata": {
    "vscode": {
     "languageId": "sql"
    }
   },
   "outputs": [],
   "source": [
    "SELECT first_name, COUNT(first_name)\n",
    "FROM people\n",
    "GROUP BY first_name;"
   ]
  },
  {
   "cell_type": "markdown",
   "metadata": {},
   "source": [
    "We can do that with another field, for example last_name"
   ]
  },
  {
   "cell_type": "code",
   "execution_count": null,
   "metadata": {
    "vscode": {
     "languageId": "sql"
    }
   },
   "outputs": [],
   "source": [
    "SELECT last_name, COUNT(last_name)\n",
    "FROM people\n",
    "GROUP BY last_name;"
   ]
  },
  {
   "cell_type": "markdown",
   "metadata": {},
   "source": [
    "Let's switch it to see how many of our quiz participants come from each state in the United States"
   ]
  },
  {
   "cell_type": "code",
   "execution_count": null,
   "metadata": {
    "vscode": {
     "languageId": "sql"
    }
   },
   "outputs": [],
   "source": [
    "SELECT state, COUNT(state)\n",
    "FROM people\n",
    "GROUP BY state;"
   ]
  },
  {
   "cell_type": "markdown",
   "metadata": {},
   "source": [
    "Now let's find out how people from each state did on our quiz. Let's count up the number of people that got 10,20,30, and so on points"
   ]
  },
  {
   "cell_type": "code",
   "execution_count": null,
   "metadata": {
    "vscode": {
     "languageId": "sql"
    }
   },
   "outputs": [],
   "source": [
    "SELECT state, quiz_points, COUNT(quiz_points)\n",
    "FROM people\n",
    "GROUP BY state, quiz_points;"
   ]
  }
 ],
 "metadata": {
  "language_info": {
   "name": "python"
  }
 },
 "nbformat": 4,
 "nbformat_minor": 2
}
