{
 "cells": [
  {
   "cell_type": "markdown",
   "metadata": {},
   "source": [
    "# Database and SQL\n",
    "- A database is a collection of information\n",
    "- The database is composed of fields (columns) and records (rows)\n",
    "- Schema of the database - the layout and definition of how fields, tables, and relationships are set up\n",
    "\n",
    "## Databases vs Spreadsheets\n",
    "- Both store data in fields and records\n",
    "- Database tables can have speficic relationships\n",
    "\n",
    "## SQL\n",
    "- Structured Query Language\n",
    "- A language for manipulating and talking about data in databases\n",
    "- Standardized question about a database\n",
    "- Write a question a computer can understand\n",
    "- Express what you mean explicitly\n",
    "- Often a series of smaller questions\n",
    "- Adopted into many database products\n",
    "- Whitespace independent\n",
    "- A satatement is made up of clauses\n",
    "    - Clauses are the basic component of statements\n",
    "        - Composed out of keywords that tell the database to take some action (SELECT, FROM, WHERE, ORDER BY, ASC, etc)\n",
    "        - There are also field names which tell the database where to look and what to look for (first_name, last_name, quiz_results, state, etc) \n",
    "        - There's also predicates, which let us specify what information we're working with (state = 'CA'). They include a value or condition called an expression"
   ]
  },
  {
   "cell_type": "code",
   "execution_count": null,
   "metadata": {
    "vscode": {
     "languageId": "sql"
    }
   },
   "outputs": [],
   "source": [
    "SELECT first_name, last_name -- clause\n",
    "    FROM quiz_results -- clause\n",
    "    WHERE state = 'CA' -- clause\n",
    "    ORDER BY last_name ASC; -- clause"
   ]
  },
  {
   "cell_type": "markdown",
   "metadata": {},
   "source": [
    "# Other Aspects of SQL\n",
    "- Operators - which let us compare equality or ranges of data or treat information in other ways\n",
    "- Keywords and operators are usually written in upper case. Examples:\n",
    "    SELECT\n",
    "    ORDER BY\n",
    "- At the end of a statement you a semicolon to let the database know that we're done"
   ]
  }
 ],
 "metadata": {
  "language_info": {
   "name": "python"
  }
 },
 "nbformat": 4,
 "nbformat_minor": 2
}
